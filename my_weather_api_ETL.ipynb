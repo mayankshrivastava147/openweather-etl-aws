{
 "cells": [
  {
   "cell_type": "code",
   "execution_count": null,
   "id": "525b85a3",
   "metadata": {},
   "outputs": [],
   "source": [
    "import os\n",
    "import requests, pandas as pd, json\n",
    "from datetime import datetime\n",
    "\n",
    "API_KEY = os.getenv(\"OPENWEATHER_API_KEY\")\n",
    "if not API_KEY:\n",
    "    raise RuntimeError(\"Set OPENWEATHER_API_KEY env var before running this notebook.\")\n",
    "\n",
    "CITIES = [(\"Bhopal\",\"IN\"), (\"Sydney\",\"AU\"), (\"Dubai\",\"AE\"), (\"Delhi\",\"IN\"), (\"Mumbai\",\"IN\")]\n",
    "\n",
    "def ow_fetch(endpoint: str, params: dict):\n",
    "    base = \"https://api.openweathermap.org/data/2.5\"\n",
    "    q = {**params, \"appid\": API_KEY, \"units\": \"metric\"}\n",
    "    r = requests.get(f\"{base}/{endpoint}\", params=q, timeout=15)\n",
    "    r.raise_for_status()\n",
    "    return r.json()\n"
   ]
  },
  {
   "cell_type": "code",
   "execution_count": null,
   "id": "1243f928",
   "metadata": {},
   "outputs": [],
   "source": [
    "current_rows = []\n",
    "\n",
    "for city,country in CITIES:\n",
    "    j = ow_fetch(\"weather\", {\"q\": f\"{city},{country}\"})\n",
    "    row = {\n",
    "        \"city\" : j[\"name\"],\n",
    "        \"country\" : j['sys']['country'],\n",
    "        \"lat\" : j['coord']['lat'],\n",
    "        \"lon\" : j['coord']['lon'],\n",
    "        'temp' : j['main']['temp'],\n",
    "        \"feels_like\" : j['main']['feels_like'],\n",
    "        \"max_temp\" : j['main']['temp_max'],\n",
    "        \"min_temp\": j['main']['temp_min'],\n",
    "        \"humidity\" : j['main']['humidity'],\n",
    "        \"pressure\" : j['main']['pressure'],\n",
    "        \"wind_speed\" : j['wind']['speed'],\n",
    "        \"visibility\" : j['visibility'],\n",
    "        \"sunrise\" : j['sys']['sunrise'],\n",
    "        \"sunset\"  : j['sys']['sunset'],\n",
    "        \"date\" : j['dt']\n",
    "        \n",
    "    }\n",
    "    current_rows.append(row)\n",
    "    \n",
    "df_current  = pd.DataFrame(current_rows)\n"
   ]
  },
  {
   "cell_type": "code",
   "execution_count": null,
   "id": "d7ac945a",
   "metadata": {},
   "outputs": [],
   "source": [
    "df_current['date'] = pd.to_datetime(df_current['date'], unit='s').dt.strftime(\"%Y-%m-%d %H:%M:%S\")\n",
    "df_current['sunrise'] = pd.to_datetime(df_current['sunrise'], unit='s').dt.strftime(\"%Y-%m-%d %H:%M:%S\")\n",
    "df_current['sunset']  = pd.to_datetime(df_current['sunset'], unit='s').dt.strftime(\"%Y-%m-%d %H:%M:%S\")\n"
   ]
  },
  {
   "cell_type": "code",
   "execution_count": null,
   "id": "ff2c6de3",
   "metadata": {},
   "outputs": [],
   "source": [
    "df_current['visibility'] = df_current['visibility'] / 1000\n"
   ]
  },
  {
   "cell_type": "code",
   "execution_count": null,
   "id": "4f8109e1",
   "metadata": {},
   "outputs": [],
   "source": [
    "df_current=df_current.rename(columns={'visibility':'visibility_km'})"
   ]
  },
  {
   "cell_type": "code",
   "execution_count": null,
   "id": "0f6ca8c0",
   "metadata": {},
   "outputs": [],
   "source": [
    "df_current['wind_speed'] = df_current['wind_speed'] * 3.6\n"
   ]
  },
  {
   "cell_type": "code",
   "execution_count": null,
   "id": "00cb3b98",
   "metadata": {},
   "outputs": [],
   "source": [
    "df_current=df_current.rename(columns={'wind_speed':'wind_speed_km'})"
   ]
  },
  {
   "cell_type": "code",
   "execution_count": null,
   "id": "d266c4ae",
   "metadata": {},
   "outputs": [],
   "source": [
    "forecast_rows = []\n",
    "for city, country in CITIES:\n",
    "    f = ow_fetch(\"forecast\", {\"q\": f\"{city},{country}\"})\n",
    "    for it in f[\"list\"]:\n",
    "        forecast_rows.append({\n",
    "            \"city\":     f[\"city\"][\"name\"],\n",
    "            \"country\":  f[\"city\"][\"country\"],\n",
    "            \"dt_txt\":   it[\"dt_txt\"],\n",
    "            \"temp\":     it[\"main\"][\"temp\"],\n",
    "            \"feels_like\": it[\"main\"][\"feels_like\"],\n",
    "            \"pressure\": it[\"main\"][\"pressure\"],\n",
    "            \"humidity\": it[\"main\"][\"humidity\"],\n",
    "            \"wind_speed\": it[\"wind\"][\"speed\"],\n",
    "            \"clouds_pct\": it[\"clouds\"][\"all\"],\n",
    "            \"pop\":      it.get(\"pop\"),\n",
    "            \"rain_3h\":  (it.get(\"rain\") or {}).get(\"3h\", 0),\n",
    "            \"weather\":  it[\"weather\"][0][\"main\"],\n",
    "            \"weather_desc\": it[\"weather\"][0][\"description\"],\n",
    "        })\n",
    "\n",
    "df_forecast = pd.DataFrame(forecast_rows)"
   ]
  },
  {
   "cell_type": "code",
   "execution_count": null,
   "id": "45f5ac18",
   "metadata": {},
   "outputs": [],
   "source": [
    "df_forecast['wind_speed'] = df_forecast['wind_speed'] * 3.6"
   ]
  },
  {
   "cell_type": "code",
   "execution_count": null,
   "id": "84fca39c",
   "metadata": {},
   "outputs": [],
   "source": [
    "df_forecast = df_forecast.rename(columns={'wind_speed':'wind_speed_km'})"
   ]
  },
  {
   "cell_type": "code",
   "execution_count": null,
   "id": "a4df6544",
   "metadata": {},
   "outputs": [],
   "source": [
    "df_forecast['dt_txt'] = pd.to_datetime(df_forecast['dt_txt'])"
   ]
  },
  {
   "cell_type": "markdown",
   "id": "4490992c",
   "metadata": {},
   "source": [
    " "
   ]
  },
  {
   "cell_type": "code",
   "execution_count": null,
   "id": "9bda3b6e",
   "metadata": {},
   "outputs": [],
   "source": [
    "\n",
    "df_forecast['date'] = df_forecast['dt_txt'].dt.date\n",
    "\n",
    "df_forecast['time'] = df_forecast['dt_txt'].dt.time\n",
    "\n",
    "\n",
    "df_forecast['hour'] = df_forecast['dt_txt'].dt.hour\n",
    "\n",
    "\n",
    "df_forecast = df_forecast[[\n",
    "    'city', 'country',\"dt_txt\", 'date', 'time', 'hour',\n",
    "    'temp', 'feels_like', 'pressure', 'humidity',\n",
    "    'wind_speed_km', 'clouds_pct', 'pop', 'rain_3h',\n",
    "    'weather', 'weather_desc'\n",
    "]]"
   ]
  },
  {
   "cell_type": "code",
   "execution_count": null,
   "id": "10a65b94",
   "metadata": {},
   "outputs": [],
   "source": []
  },
  {
   "cell_type": "code",
   "execution_count": null,
   "id": "54d0685e",
   "metadata": {},
   "outputs": [],
   "source": []
  }
 ],
 "metadata": {
  "kernelspec": {
   "display_name": "Python 3 (ipykernel)",
   "language": "python",
   "name": "python3"
  },
  "language_info": {
   "codemirror_mode": {
    "name": "ipython",
    "version": 3
   },
   "file_extension": ".py",
   "mimetype": "text/x-python",
   "name": "python",
   "nbconvert_exporter": "python",
   "pygments_lexer": "ipython3",
   "version": "3.11.5"
  }
 },
 "nbformat": 4,
 "nbformat_minor": 5
}
